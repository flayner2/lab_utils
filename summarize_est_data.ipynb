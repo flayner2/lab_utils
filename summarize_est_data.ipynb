{
 "metadata": {
  "language_info": {
   "codemirror_mode": {
    "name": "ipython",
    "version": 3
   },
   "file_extension": ".py",
   "mimetype": "text/x-python",
   "name": "python",
   "nbconvert_exporter": "python",
   "pygments_lexer": "ipython3",
   "version": "3.9.1-final"
  },
  "orig_nbformat": 2,
  "kernelspec": {
   "name": "python3",
   "display_name": "Python 3",
   "language": "python"
  }
 },
 "nbformat": 4,
 "nbformat_minor": 2,
 "cells": [
  {
   "cell_type": "code",
   "execution_count": 1,
   "metadata": {},
   "outputs": [],
   "source": [
    "import os\n",
    "import pandas as pd\n",
    "import numpy as np\n",
    "import matplotlib.pyplot as plt\n",
    "import seaborn as sns\n",
    "%matplotlib inline"
   ]
  },
  {
   "cell_type": "code",
   "execution_count": 2,
   "metadata": {},
   "outputs": [],
   "source": [
    "from Bio import SeqIO"
   ]
  },
  {
   "cell_type": "code",
   "execution_count": 41,
   "metadata": {
    "tags": []
   },
   "outputs": [],
   "source": [
    "seq_data = pd.DataFrame(columns=['seq_id', 'seq_len', 'orgn_name', 'seq_description'])\n",
    "file_data = pd.DataFrame(columns=['orgn_name', 'file_name', 'num_seqs_raw'])\n",
    "data_dir = './local_data/'\n",
    "\n",
    "for file in os.listdir(data_dir):\n",
    "    if 'ests' in file and file.endswith('.fasta'):\n",
    "        fullpath = os.path.join(data_dir, file)\n",
    "        orgn_name = file.split('_ests')[0].replace('_', ' ')\n",
    "\n",
    "        with open(fullpath, 'r') as infile:\n",
    "            d = {\n",
    "                'orgn_name': orgn_name, \n",
    "                'file_name': file, \n",
    "                'num_seqs_raw': infile.read().count('>')\n",
    "            }\n",
    "            file_data = file_data.append(d, ignore_index=True)\n",
    "            file_data['num_seqs_raw'] = file_data['num_seqs_raw'].astype(\n",
    "                np.int64\n",
    "            )\n",
    "\n",
    "        for seq in SeqIO.parse(fullpath, 'fasta'):\n",
    "            d = {\n",
    "                'seq_id': seq.id,\n",
    "                'seq_len': len(seq),\n",
    "                'seq_description': seq.description,\n",
    "                'orgn_name': orgn_name\n",
    "            }\n",
    "            seq_data = seq_data.append(d, ignore_index=True)\n",
    "            seq_data['seq_len'] = seq_data['seq_len'].astype(\n",
    "                np.int64\n",
    "            )\n"
   ]
  },
  {
   "cell_type": "code",
   "execution_count": 40,
   "metadata": {},
   "outputs": [
    {
     "output_type": "execute_result",
     "data": {
      "text/plain": [
       "             orgn_name                       file_name  num_seqs_raw\n",
       "0  Polistes canadensis  Polistes_canadensis_ests.fasta            43"
      ],
      "text/html": "<div>\n<style scoped>\n    .dataframe tbody tr th:only-of-type {\n        vertical-align: middle;\n    }\n\n    .dataframe tbody tr th {\n        vertical-align: top;\n    }\n\n    .dataframe thead th {\n        text-align: right;\n    }\n</style>\n<table border=\"1\" class=\"dataframe\">\n  <thead>\n    <tr style=\"text-align: right;\">\n      <th></th>\n      <th>orgn_name</th>\n      <th>file_name</th>\n      <th>num_seqs_raw</th>\n    </tr>\n  </thead>\n  <tbody>\n    <tr>\n      <th>0</th>\n      <td>Polistes canadensis</td>\n      <td>Polistes_canadensis_ests.fasta</td>\n      <td>43</td>\n    </tr>\n  </tbody>\n</table>\n</div>"
     },
     "metadata": {},
     "execution_count": 40
    }
   ],
   "source": [
    "file_data.head()"
   ]
  },
  {
   "cell_type": "code",
   "execution_count": 42,
   "metadata": {},
   "outputs": [
    {
     "output_type": "execute_result",
     "data": {
      "text/plain": [
       "       seq_id  seq_len            orgn_name  \\\n",
       "0  DT319104.1      256  Polistes canadensis   \n",
       "1  DT319105.1      465  Polistes canadensis   \n",
       "2  DT319106.1      324  Polistes canadensis   \n",
       "3  DT319107.1      236  Polistes canadensis   \n",
       "4  DT319108.1      386  Polistes canadensis   \n",
       "\n",
       "                                     seq_description  \n",
       "0  DT319104.1 EST00001 Polistes canadensis adult ...  \n",
       "1  DT319105.1 EST00002 Polistes canadensis adult ...  \n",
       "2  DT319106.1 EST00003 Polistes canadensis adult ...  \n",
       "3  DT319107.1 EST00004 Polistes canadensis adult ...  \n",
       "4  DT319108.1 EST00005 Polistes canadensis adult ...  "
      ],
      "text/html": "<div>\n<style scoped>\n    .dataframe tbody tr th:only-of-type {\n        vertical-align: middle;\n    }\n\n    .dataframe tbody tr th {\n        vertical-align: top;\n    }\n\n    .dataframe thead th {\n        text-align: right;\n    }\n</style>\n<table border=\"1\" class=\"dataframe\">\n  <thead>\n    <tr style=\"text-align: right;\">\n      <th></th>\n      <th>seq_id</th>\n      <th>seq_len</th>\n      <th>orgn_name</th>\n      <th>seq_description</th>\n    </tr>\n  </thead>\n  <tbody>\n    <tr>\n      <th>0</th>\n      <td>DT319104.1</td>\n      <td>256</td>\n      <td>Polistes canadensis</td>\n      <td>DT319104.1 EST00001 Polistes canadensis adult ...</td>\n    </tr>\n    <tr>\n      <th>1</th>\n      <td>DT319105.1</td>\n      <td>465</td>\n      <td>Polistes canadensis</td>\n      <td>DT319105.1 EST00002 Polistes canadensis adult ...</td>\n    </tr>\n    <tr>\n      <th>2</th>\n      <td>DT319106.1</td>\n      <td>324</td>\n      <td>Polistes canadensis</td>\n      <td>DT319106.1 EST00003 Polistes canadensis adult ...</td>\n    </tr>\n    <tr>\n      <th>3</th>\n      <td>DT319107.1</td>\n      <td>236</td>\n      <td>Polistes canadensis</td>\n      <td>DT319107.1 EST00004 Polistes canadensis adult ...</td>\n    </tr>\n    <tr>\n      <th>4</th>\n      <td>DT319108.1</td>\n      <td>386</td>\n      <td>Polistes canadensis</td>\n      <td>DT319108.1 EST00005 Polistes canadensis adult ...</td>\n    </tr>\n  </tbody>\n</table>\n</div>"
     },
     "metadata": {},
     "execution_count": 42
    }
   ],
   "source": [
    "seq_data.head()"
   ]
  },
  {
   "cell_type": "code",
   "execution_count": 44,
   "metadata": {},
   "outputs": [
    {
     "output_type": "execute_result",
     "data": {
      "text/plain": [
       "          seq_len\n",
       "count   43.000000\n",
       "mean   357.697674\n",
       "std     94.749176\n",
       "min    149.000000\n",
       "25%    297.500000\n",
       "50%    366.000000\n",
       "75%    420.000000\n",
       "max    553.000000"
      ],
      "text/html": "<div>\n<style scoped>\n    .dataframe tbody tr th:only-of-type {\n        vertical-align: middle;\n    }\n\n    .dataframe tbody tr th {\n        vertical-align: top;\n    }\n\n    .dataframe thead th {\n        text-align: right;\n    }\n</style>\n<table border=\"1\" class=\"dataframe\">\n  <thead>\n    <tr style=\"text-align: right;\">\n      <th></th>\n      <th>seq_len</th>\n    </tr>\n  </thead>\n  <tbody>\n    <tr>\n      <th>count</th>\n      <td>43.000000</td>\n    </tr>\n    <tr>\n      <th>mean</th>\n      <td>357.697674</td>\n    </tr>\n    <tr>\n      <th>std</th>\n      <td>94.749176</td>\n    </tr>\n    <tr>\n      <th>min</th>\n      <td>149.000000</td>\n    </tr>\n    <tr>\n      <th>25%</th>\n      <td>297.500000</td>\n    </tr>\n    <tr>\n      <th>50%</th>\n      <td>366.000000</td>\n    </tr>\n    <tr>\n      <th>75%</th>\n      <td>420.000000</td>\n    </tr>\n    <tr>\n      <th>max</th>\n      <td>553.000000</td>\n    </tr>\n  </tbody>\n</table>\n</div>"
     },
     "metadata": {},
     "execution_count": 44
    }
   ],
   "source": [
    "seq_data.describe()"
   ]
  }
 ]
}