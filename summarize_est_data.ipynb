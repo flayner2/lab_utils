{
 "metadata": {
  "language_info": {
   "codemirror_mode": {
    "name": "ipython",
    "version": 3
   },
   "file_extension": ".py",
   "mimetype": "text/x-python",
   "name": "python",
   "nbconvert_exporter": "python",
   "pygments_lexer": "ipython3",
   "version": "3.9.1-final"
  },
  "orig_nbformat": 2,
  "kernelspec": {
   "name": "python3",
   "display_name": "Python 3",
   "language": "python"
  }
 },
 "nbformat": 4,
 "nbformat_minor": 2,
 "cells": [
  {
   "cell_type": "code",
   "execution_count": 1,
   "metadata": {},
   "outputs": [],
   "source": [
    "import os\n",
    "import pandas as pd\n",
    "import numpy as np\n",
    "import matplotlib.pyplot as plt\n",
    "import seaborn as sns\n",
    "%matplotlib inline"
   ]
  },
  {
   "cell_type": "code",
   "execution_count": 2,
   "metadata": {},
   "outputs": [],
   "source": [
    "from Bio import SeqIO"
   ]
  },
  {
   "cell_type": "code",
   "execution_count": 14,
   "metadata": {
    "tags": []
   },
   "outputs": [],
   "source": [
    "seq_data = pd.DataFrame()\n",
    "file_data = pd.DataFrame()\n",
    "data_dir = './local_data/'\n",
    "\n",
    "for file in os.listdir(data_dir):\n",
    "    if 'ests' in file and file.endswith('.fasta'):\n",
    "        fullpath = os.path.join(data_dir, file)\n",
    "\n",
    "        with open(fullpath, 'r') as infile:\n",
    "            file_data['file_name'] = file\n",
    "            file_data['orgn_name'] = file.split('_ests')[0].replace('_', ' ')\n",
    "            file_data['num_seqs_raw'] = infile.read().count('>')\n",
    "\n",
    "        for seq in SeqIO.parse(fullpath, 'fasta'):\n",
    "            seq_data['seq_id'] = seq.id\n",
    "            seq_data['seq_len'] = len(seq)\n",
    "            seq_data['seq_description'] = seq.description\n",
    "            seq_data['orgn_name'] = file.split('_ests')[0].replace('_', ' ')\n",
    "\n"
   ]
  },
  {
   "cell_type": "code",
   "execution_count": 16,
   "metadata": {},
   "outputs": [
    {
     "output_type": "execute_result",
     "data": {
      "text/plain": [
       "Empty DataFrame\n",
       "Columns: [file_name, orgn_name, num_seqs_raw]\n",
       "Index: []"
      ],
      "text/html": "<div>\n<style scoped>\n    .dataframe tbody tr th:only-of-type {\n        vertical-align: middle;\n    }\n\n    .dataframe tbody tr th {\n        vertical-align: top;\n    }\n\n    .dataframe thead th {\n        text-align: right;\n    }\n</style>\n<table border=\"1\" class=\"dataframe\">\n  <thead>\n    <tr style=\"text-align: right;\">\n      <th></th>\n      <th>file_name</th>\n      <th>orgn_name</th>\n      <th>num_seqs_raw</th>\n    </tr>\n  </thead>\n  <tbody>\n  </tbody>\n</table>\n</div>"
     },
     "metadata": {},
     "execution_count": 16
    }
   ],
   "source": [
    "file_data.head()"
   ]
  }
 ]
}